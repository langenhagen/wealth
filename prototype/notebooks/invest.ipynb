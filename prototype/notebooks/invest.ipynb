{
 "cells": [
  {
   "cell_type": "markdown",
   "id": "northern-conversion",
   "metadata": {},
   "source": [
    "# Investments\n",
    "Investment-related evaluations."
   ]
  },
  {
   "cell_type": "code",
   "execution_count": null,
   "id": "veterinary-sleeping",
   "metadata": {},
   "outputs": [],
   "source": [
    "%load_ext autoreload\n",
    "%autoreload 2\n",
    "import wealth.invest\n",
    "\n",
    "goals = {\n",
    "    \"playstation 5\": 700,\n",
    "    \"summer vacation\": 2_000,\n",
    "}\n",
    "\n",
    "fulfilled_goals = {\n",
    "    \"winter vacation 2021\": 1000,\n",
    "}\n",
    "\n",
    "wealth.invest.stock(goals, fulfilled_goals)"
   ]
  },
  {
   "cell_type": "code",
   "execution_count": null,
   "id": "sophisticated-amplifier",
   "metadata": {},
   "outputs": [],
   "source": [
    "import wealth.invest\n",
    "from wealth import display\n",
    "\n",
    "display(\"## Bailout Metrics\")\n",
    "display(\"Use them as pointers when to bail out of a stock.\")\n",
    "\n",
    "display(\"### Generally Necessary Gain to Flee Inflation under Taxes\")\n",
    "wealth.invest.bailout(investment_year=2021, investment=1000, target_value_rate=1)"
   ]
  }
 ],
 "metadata": {
  "kernelspec": {
   "display_name": "Python 3",
   "language": "python",
   "name": "python3"
  },
  "language_info": {
   "codemirror_mode": {
    "name": "ipython",
    "version": 3
   },
   "file_extension": ".py",
   "mimetype": "text/x-python",
   "name": "python",
   "nbconvert_exporter": "python",
   "pygments_lexer": "ipython3",
   "version": "3.8.3"
  }
 },
 "nbformat": 4,
 "nbformat_minor": 5
}
