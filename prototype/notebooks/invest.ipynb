{
 "cells": [
  {
   "cell_type": "markdown",
   "id": "northern-conversion",
   "metadata": {},
   "source": [
    "# Investments"
   ]
  },
  {
   "cell_type": "code",
   "execution_count": null,
   "id": "veterinary-sleeping",
   "metadata": {},
   "outputs": [],
   "source": [
    "import pandas as pd\n",
    "from IPython.core.display import display\n",
    "from IPython.display import Markdown\n",
    "\n",
    "import wealth\n",
    "\n",
    "display(Markdown(\"# Irregular Investments\"))\n",
    "\n",
    "investments = {\n",
    "    (\"2020-01-01\", 1000.10, 11, \"Apple Inc.\"),\n",
    "    (\"2021-02-02\", 2000.20, 23, \"Microsoft Inc.\"),\n",
    "}\n",
    "\n",
    "wealth.invest.invest(investments)"
   ]
  },
  {
   "cell_type": "code",
   "execution_count": null,
   "id": "sophisticated-amplifier",
   "metadata": {},
   "outputs": [],
   "source": [
    "import wealth.invest\n",
    "display(Markdown(\"## Bailout Metrics\"))\n",
    "display(Markdown(\"You can use it as pointers when to bail out of a stock.\"))\n",
    "\n",
    "display(Markdown(\"### Generally Necessary Gain to Flee Inflation under Taxes\"))\n",
    "\n",
    "wealth.invest.bailout(investment_year=2021, investment=100, inflation_rate=2, tax_rate=27, target_value_rate=1)\n",
    "\n",
    "display(Markdown(\"### Apple\"))\n",
    "wealth.invest.bailout(investment_year=2020, investment=1000.10, inflation_rate=2, tax_rate=27, target_value_rate=1.1)"
   ]
  }
 ],
 "metadata": {
  "kernelspec": {
   "display_name": "Python 3",
   "language": "python",
   "name": "python3"
  },
  "language_info": {
   "codemirror_mode": {
    "name": "ipython",
    "version": 3
   },
   "file_extension": ".py",
   "mimetype": "text/x-python",
   "name": "python",
   "nbconvert_exporter": "python",
   "pygments_lexer": "ipython3",
   "version": "3.8.3"
  }
 },
 "nbformat": 4,
 "nbformat_minor": 5
}