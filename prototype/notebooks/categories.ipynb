{
 "cells": [
  {
   "cell_type": "markdown",
   "id": "3106a0ed-bb24-444d-ac7f-f6749a623eab",
   "metadata": {},
   "source": [
    "# Categories\n",
    "Costs per category over time."
   ]
  },
  {
   "cell_type": "code",
   "execution_count": null,
   "id": "12d6c267-7f0a-4ec8-99de-464dfbc2ed0c",
   "metadata": {},
   "outputs": [],
   "source": [
    "%load_ext autoreload\n",
    "%autoreload 2\n",
    "import wealth\n",
    "\n",
    "df = wealth.init()\n",
    "\n",
    "categories = {\n",
    "    \"groceries\": \"wallmart|tesco|lidl\",\n",
    "    \"cash\": \"withdrawal\",\n",
    "    \"food delivery\": \"delivery.*hhero|uber.*eats\",\n",
    "}\n",
    "\n",
    "wealth.categories.categories(df, categories)"
   ]
  }
 ],
 "metadata": {
  "kernelspec": {
   "display_name": "Python 3 (ipykernel)",
   "language": "python",
   "name": "python3"
  },
  "language_info": {
   "codemirror_mode": {
    "name": "ipython",
    "version": 3
   },
   "file_extension": ".py",
   "mimetype": "text/x-python",
   "name": "python",
   "nbconvert_exporter": "python",
   "pygments_lexer": "ipython3",
   "version": "3.9.7"
  }
 },
 "nbformat": 4,
 "nbformat_minor": 5
}
