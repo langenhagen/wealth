{
 "cells": [
  {
   "cell_type": "markdown",
   "id": "e1345b02",
   "metadata": {},
   "source": [
    "# Track\n",
    "Evaluation of manual expense tracking."
   ]
  },
  {
   "cell_type": "code",
   "execution_count": null,
   "id": "1f011d08-bee6-4080-ad56-806c79841e37",
   "metadata": {},
   "outputs": [],
   "source": [
    "from wealth.track import track\n",
    "\n",
    "df = track()"
   ]
  }
 ],
 "metadata": {
  "kernelspec": {
   "display_name": "Python 3 (ipykernel)",
   "language": "python",
   "name": "python3"
  },
  "language_info": {
   "codemirror_mode": {
    "name": "ipython",
    "version": 3
   },
   "file_extension": ".py",
   "mimetype": "text/x-python",
   "name": "python",
   "nbconvert_exporter": "python",
   "pygments_lexer": "ipython3",
   "version": "3.9.7"
  }
 },
 "nbformat": 4,
 "nbformat_minor": 5
}
