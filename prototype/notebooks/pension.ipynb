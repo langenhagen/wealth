{
 "cells": [
  {
   "cell_type": "markdown",
   "metadata": {},
   "source": [
    "# Pension\n",
    "Pension-related calculations."
   ]
  },
  {
   "cell_type": "code",
   "execution_count": null,
   "metadata": {},
   "outputs": [],
   "source": [
    "# numeric text input: when do you drop out of job life?  -  take number from config but make it changeable\n",
    "# numeric text input: how many years do you plan to receive the pension money? - take number from config but make it changeable\n",
    "# numeric text input: how much do you receive then from the govt then per month/year? - from cfg but adjustable - show result in df\n",
    "# numeric text input: how much did you already put aside extra? - from cfg but adjustable\n",
    "# numeric text input: how much do you regularly put aside? what are the\n",
    "\n",
    "# show df: calculate how much you may require per day/week/month/year: require = current_spend * future_money's worth\n",
    "# show in same df: show how much you would still miss per day/week/month/year: require - receive\n",
    "# show in same df: how much you should put aside per day/week/month/year - consider interest & inflation"
   ]
  },
  {
   "cell_type": "code",
   "execution_count": null,
   "metadata": {},
   "outputs": [],
   "source": [
    "%load_ext autoreload\n",
    "%autoreload 2\n",
    "%matplotlib widget\n",
    "\n",
    "from wealth.pension import pension_info\n",
    "\n",
    "pension_info()"
   ]
  }
 ],
 "metadata": {
  "kernelspec": {
   "display_name": "Python 3",
   "language": "python",
   "name": "python3"
  },
  "language_info": {
   "codemirror_mode": {
    "name": "ipython",
    "version": 3
   },
   "file_extension": ".py",
   "mimetype": "text/x-python",
   "name": "python",
   "nbconvert_exporter": "python",
   "pygments_lexer": "ipython3",
   "version": "3.8.3"
  }
 },
 "nbformat": 4,
 "nbformat_minor": 4
}
