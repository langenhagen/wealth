{
 "cells": [
  {
   "cell_type": "markdown",
   "metadata": {},
   "source": [
    "# Pension"
   ]
  },
  {
   "cell_type": "code",
   "execution_count": null,
   "metadata": {},
   "outputs": [],
   "source": [
    "# when do you drop out of job life?\n",
    "#  take number from config but make it changeable\n",
    "\n",
    "# what's money worth then compared to now? ~60% ==> inflation\n",
    "#  take money from config but make it changeable\n",
    "\n",
    "# how many years do you plan to receive the pension money\n",
    "#  take number from config but make it changeable\n",
    "\n",
    "# how much do you spend atm ~ per day, per week, per month, per year?\n",
    "#  calc but adjustable\n",
    "\n",
    "# how much do you receive then from the govt then per month/year?\n",
    "#  from cfg but adjustable\n",
    "\n",
    "# how much did you already put aside extra?\n",
    "#  from cfg but adjustable\n",
    "\n",
    "# calculate how much you require per day/week/month/year: require = current_spend/inflation\n",
    "\n",
    "# calculate how much you need extra per day/week/month/year: require - receive\n",
    "\n",
    "\n",
    "# calculate how much you should put aside per day/week/month/year\n",
    "\n",
    "# addable options: interactively adjust how much you you should put aside - would receive - whats the difference from required would be"
   ]
  },
  {
   "cell_type": "code",
   "execution_count": null,
   "metadata": {},
   "outputs": [],
   "source": [
    "%load_ext autoreload\n",
    "%autoreload 2\n",
    "%matplotlib widget\n",
    "\n",
    "import wealth.pension\n",
    "\n",
    "wealth.pension.pension_info()"
   ]
  }
 ],
 "metadata": {
  "kernelspec": {
   "display_name": "Python 3",
   "language": "python",
   "name": "python3"
  },
  "language_info": {
   "codemirror_mode": {
    "name": "ipython",
    "version": 3
   },
   "file_extension": ".py",
   "mimetype": "text/x-python",
   "name": "python",
   "nbconvert_exporter": "python",
   "pygments_lexer": "ipython3",
   "version": "3.8.3"
  }
 },
 "nbformat": 4,
 "nbformat_minor": 4
}