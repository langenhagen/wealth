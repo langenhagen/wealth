{
 "cells": [
  {
   "cell_type": "markdown",
   "metadata": {},
   "source": [
    "# Positions"
   ]
  },
  {
   "cell_type": "code",
   "execution_count": 4,
   "metadata": {},
   "outputs": [
    {
     "output_type": "stream",
     "name": "stdout",
     "text": [
      "The autoreload extension is already loaded. To reload it, use:\n  %reload_ext autoreload\n"
     ]
    },
    {
     "output_type": "error",
     "ename": "ModuleNotFoundError",
     "evalue": "No module named 'wealth'",
     "traceback": [
      "\u001b[0;31m---------------------------------------------------------------------------\u001b[0m",
      "\u001b[0;31mModuleNotFoundError\u001b[0m                       Traceback (most recent call last)",
      "\u001b[0;32m<ipython-input-4-143312e5e2b6>\u001b[0m in \u001b[0;36m<module>\u001b[0;34m\u001b[0m\n\u001b[1;32m      3\u001b[0m \u001b[0mget_ipython\u001b[0m\u001b[0;34m(\u001b[0m\u001b[0;34m)\u001b[0m\u001b[0;34m.\u001b[0m\u001b[0mrun_line_magic\u001b[0m\u001b[0;34m(\u001b[0m\u001b[0;34m'matplotlib'\u001b[0m\u001b[0;34m,\u001b[0m \u001b[0;34m'widget'\u001b[0m\u001b[0;34m)\u001b[0m\u001b[0;34m\u001b[0m\u001b[0;34m\u001b[0m\u001b[0m\n\u001b[1;32m      4\u001b[0m \u001b[0;34m\u001b[0m\u001b[0m\n\u001b[0;32m----> 5\u001b[0;31m \u001b[0;32mimport\u001b[0m \u001b[0mwealth\u001b[0m\u001b[0;34m\u001b[0m\u001b[0;34m\u001b[0m\u001b[0m\n\u001b[0m\u001b[1;32m      6\u001b[0m \u001b[0;34m\u001b[0m\u001b[0m\n\u001b[1;32m      7\u001b[0m buckets = dict(\n",
      "\u001b[0;31mModuleNotFoundError\u001b[0m: No module named 'wealth'"
     ]
    }
   ],
   "source": [
    "%load_ext autoreload\n",
    "%autoreload 2\n",
    "%matplotlib widget\n",
    "\n",
    "import wealth\n",
    "\n",
    "buckets = dict(\n",
    "    # incomes\n",
    "    incomes = dict(\n",
    "        net_income = 3000\n",
    "    ),\n",
    "    # expenses\n",
    "    fixed_costs = dict(\n",
    "        rent = 800,\n",
    "        electricity = 50,\n",
    "        internet = 30,\n",
    "        household_insurance = 10,\n",
    "        gez = 17.5,\n",
    "    ),\n",
    "    variable_costs = dict(\n",
    "        groceries = 300,\n",
    "        cash = 250,\n",
    "        shopping = 150,\n",
    "    ),\n",
    "    safety_costs = dict(\n",
    "        rent_security = 100,  # flat extra cost, electricity extra cost, ...\n",
    "        upkeep = 100,  # bike, clothing repairs, cleanings, furniture, ...\n",
    "    ),\n",
    "    # savings \n",
    "    savings = dict(\n",
    "        pension = 600,\n",
    "        house = 592.50,\n",
    "    )\n",
    ")\n",
    "\n",
    "wealth.positions.info(buckets)"
   ]
  }
 ],
 "metadata": {
  "kernelspec": {
   "display_name": "Python 3",
   "language": "python",
   "name": "python3"
  },
  "language_info": {
   "codemirror_mode": {
    "name": "ipython",
    "version": 3
   },
   "file_extension": ".py",
   "mimetype": "text/x-python",
   "name": "python",
   "nbconvert_exporter": "python",
   "pygments_lexer": "ipython3",
   "version": "3.8.3"
  }
 },
 "nbformat": 4,
 "nbformat_minor": 4
}
