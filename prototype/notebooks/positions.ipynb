{
 "cells": [
  {
   "cell_type": "markdown",
   "metadata": {},
   "source": [
    "# Positions\n",
    "Record of all recurring income- and expense- positions."
   ]
  },
  {
   "cell_type": "code",
   "execution_count": null,
   "metadata": {},
   "outputs": [],
   "source": [
    "%load_ext autoreload\n",
    "%autoreload 2\n",
    "%matplotlib widget\n",
    "\n",
    "import wealth\n",
    "\n",
    "buckets = dict(\n",
    "    # incomes\n",
    "    incomes=dict(net_income=3000),\n",
    "    # expenses\n",
    "    fixed_costs=dict(\n",
    "        rent=-800,\n",
    "        electricity=-50,\n",
    "        internet=-30,\n",
    "        household_insurance=-10,\n",
    "        gez=-19,\n",
    "    ),\n",
    "    variable_costs=dict(\n",
    "        groceries=-300,\n",
    "        cash=-250,\n",
    "        shopping=-150,\n",
    "    ),\n",
    "    safety_costs=dict(\n",
    "        rent_security=-100,  # flat extra cost, electricity extra cost, ...\n",
    "        upkeep=-100,  # bike, clothing repairs, cleanings, furniture, ...\n",
    "    ),\n",
    "    # savings\n",
    "    savings=dict(\n",
    "        pension=-600,\n",
    "        house=-592.50,\n",
    "    ),\n",
    ")\n",
    "\n",
    "wealth.positions.info(buckets)"
   ]
  }
 ],
 "metadata": {
  "kernelspec": {
   "display_name": "Python 3",
   "language": "python",
   "name": "python3"
  },
  "language_info": {
   "codemirror_mode": {
    "name": "ipython",
    "version": 3
   },
   "file_extension": ".py",
   "mimetype": "text/x-python",
   "name": "python",
   "nbconvert_exporter": "python",
   "pygments_lexer": "ipython3",
   "version": "3.8.3"
  }
 },
 "nbformat": 4,
 "nbformat_minor": 4
}
