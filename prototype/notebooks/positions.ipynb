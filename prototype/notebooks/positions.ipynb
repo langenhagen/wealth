{
 "cells": [
  {
   "cell_type": "markdown",
   "metadata": {},
   "source": [
    "# Positions"
   ]
  },
  {
   "cell_type": "code",
   "execution_count": 3,
   "metadata": {},
   "outputs": [
    {
     "name": "stdout",
     "output_type": "stream",
     "text": [
      "The autoreload extension is already loaded. To reload it, use:\n",
      "  %reload_ext autoreload\n"
     ]
    },
    {
     "data": {
      "text/markdown": [
       "## Sums of Positions"
      ],
      "text/plain": [
       "<IPython.core.display.Markdown object>"
      ]
     },
     "metadata": {},
     "output_type": "display_data"
    },
    {
     "data": {
      "application/vnd.jupyter.widget-view+json": {
       "model_id": "49cbb78494df460286eae0c2a523dbea",
       "version_major": 2,
       "version_minor": 0
      },
      "text/plain": [
       "BoundedIntText(value=1, description='Multiplier:', max=9990, min=1)"
      ]
     },
     "metadata": {},
     "output_type": "display_data"
    },
    {
     "data": {
      "application/vnd.jupyter.widget-view+json": {
       "model_id": "9348c74c5f35443f9ddc92225b6e48be",
       "version_major": 2,
       "version_minor": 0
      },
      "text/plain": [
       "Output()"
      ]
     },
     "metadata": {},
     "output_type": "display_data"
    },
    {
     "data": {
      "text/markdown": [
       "## Rations of Expenses"
      ],
      "text/plain": [
       "<IPython.core.display.Markdown object>"
      ]
     },
     "metadata": {},
     "output_type": "display_data"
    },
    {
     "data": {
      "application/vnd.jupyter.widget-view+json": {
       "model_id": "376fdfdcdaf24fbca81043130a30451c",
       "version_major": 2,
       "version_minor": 0
      },
      "text/plain": [
       "Canvas(toolbar=Toolbar(toolitems=[('Home', 'Reset original view', 'home', 'home'), ('Back', 'Back to previous …"
      ]
     },
     "metadata": {},
     "output_type": "display_data"
    },
    {
     "data": {
      "application/vnd.jupyter.widget-view+json": {
       "model_id": "767be5e9cdad4bcb9cd71a4bf57a0986",
       "version_major": 2,
       "version_minor": 0
      },
      "text/plain": [
       "Canvas(toolbar=Toolbar(toolitems=[('Home', 'Reset original view', 'home', 'home'), ('Back', 'Back to previous …"
      ]
     },
     "metadata": {},
     "output_type": "display_data"
    }
   ],
   "source": [
    "%load_ext autoreload\n",
    "%autoreload 2\n",
    "%matplotlib widget\n",
    "\n",
    "import wealth\n",
    "\n",
    "# incomes\n",
    "incomes = dict(\n",
    "    net_income = 3000\n",
    ")\n",
    "sum_incomes = sum(incomes.values())\n",
    "\n",
    "# expenses\n",
    "fixed_costs = dict(\n",
    "    rent = 800,\n",
    "    electricity = 50,\n",
    "    internet = 30,\n",
    "    household_insurance = 10,\n",
    "    gez = 17.5,\n",
    ")\n",
    "variable_costs = dict(\n",
    "    groceries = 300,\n",
    "    cash = 250,\n",
    "    shopping = 150,\n",
    ")\n",
    "safety_costs = dict(\n",
    "    rent_security = 100,  # flat extra cost, electricity extra cost, ...\n",
    "    upkeep = 100,  # bike, clothing repairs, cleanings, furniture, ...\n",
    ")\n",
    "\n",
    "# savings \n",
    "savings = dict(\n",
    "    pension = 600,\n",
    "    house = 592.50,\n",
    ")\n",
    "\n",
    "wealth.positions.sums(incomes, fixed_costs, variable_costs, safety_costs, savings)\n",
    "wealth.positions.expenses(fixed_costs, variable_costs, safety_costs, savings)"
   ]
  }
 ],
 "metadata": {
  "kernelspec": {
   "display_name": "Python 3",
   "language": "python",
   "name": "python3"
  },
  "language_info": {
   "codemirror_mode": {
    "name": "ipython",
    "version": 3
   },
   "file_extension": ".py",
   "mimetype": "text/x-python",
   "name": "python",
   "nbconvert_exporter": "python",
   "pygments_lexer": "ipython3",
   "version": "3.8.3"
  }
 },
 "nbformat": 4,
 "nbformat_minor": 4
}