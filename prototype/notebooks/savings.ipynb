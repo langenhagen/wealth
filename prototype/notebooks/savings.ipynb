{
 "cells": [
  {
   "cell_type": "markdown",
   "id": "b1032d23-c439-434d-b3ef-1a7ce330f933",
   "metadata": {},
   "source": [
    "# Savings\n",
    "Savings-related projections."
   ]
  },
  {
   "cell_type": "code",
   "execution_count": null,
   "id": "fccfe6a5-4a7f-4555-9a6f-f8864e0066eb",
   "metadata": {},
   "outputs": [],
   "source": [
    "%load_ext autoreload\n",
    "%autoreload 2\n",
    "%matplotlib widget\n",
    "\n",
    "from wealth.savings.savings import savings\n",
    "\n",
    "df, summary = savings(\"savings.csv\", interest_rate=0.05, inflation_rate=0.025)"
   ]
  }
 ],
 "metadata": {
  "kernelspec": {
   "display_name": "Python 3 (ipykernel)",
   "language": "python",
   "name": "python3"
  },
  "language_info": {
   "codemirror_mode": {
    "name": "ipython",
    "version": 3
   },
   "file_extension": ".py",
   "mimetype": "text/x-python",
   "name": "python",
   "nbconvert_exporter": "python",
   "pygments_lexer": "ipython3",
   "version": "3.9.7"
  }
 },
 "nbformat": 4,
 "nbformat_minor": 5
}
